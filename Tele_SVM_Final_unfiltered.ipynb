{
  "cells": [
    {
      "cell_type": "code",
      "execution_count": null,
      "metadata": {
        "id": "i3YQ-sEIEzWX"
      },
      "outputs": [],
      "source": [
        "# Cell 1: Imports\n",
        "import pandas as pd\n",
        "import numpy as np\n",
        "import matplotlib.pyplot as plt\n",
        "from sklearn.model_selection import train_test_split, GridSearchCV, StratifiedKFold\n",
        "from sklearn.preprocessing import StandardScaler, LabelEncoder\n",
        "from sklearn.metrics import classification_report, confusion_matrix, roc_auc_score\n",
        "from sklearn.svm import SVC\n",
        "from imblearn.over_sampling import SMOTE\n"
      ]
    },
    {
      "cell_type": "code",
      "execution_count": null,
      "metadata": {
        "colab": {
          "base_uri": "https://localhost:8080/",
          "height": 273
        },
        "id": "wa7KamkEFDkM",
        "outputId": "e87698a7-ed84-451e-b3e1-7154577570ac"
      },
      "outputs": [
        {
          "output_type": "stream",
          "name": "stdout",
          "text": [
            "Original shape: (5875, 22)\n"
          ]
        },
        {
          "output_type": "execute_result",
          "data": {
            "text/plain": [
              "   subject#  age  sex  test_time  motor_UPDRS  total_UPDRS  Jitter(%)  \\\n",
              "0         1   72    0     5.6431       28.199       34.398    0.00662   \n",
              "1         1   72    0    12.6660       28.447       34.894    0.00300   \n",
              "2         1   72    0    19.6810       28.695       35.389    0.00481   \n",
              "3         1   72    0    25.6470       28.905       35.810    0.00528   \n",
              "4         1   72    0    33.6420       29.187       36.375    0.00335   \n",
              "\n",
              "   Jitter(Abs)  Jitter:RAP  Jitter:PPQ5  ...  Shimmer(dB)  Shimmer:APQ3  \\\n",
              "0     0.000034     0.00401      0.00317  ...        0.230       0.01438   \n",
              "1     0.000017     0.00132      0.00150  ...        0.179       0.00994   \n",
              "2     0.000025     0.00205      0.00208  ...        0.181       0.00734   \n",
              "3     0.000027     0.00191      0.00264  ...        0.327       0.01106   \n",
              "4     0.000020     0.00093      0.00130  ...        0.176       0.00679   \n",
              "\n",
              "   Shimmer:APQ5  Shimmer:APQ11  Shimmer:DDA       NHR     HNR     RPDE  \\\n",
              "0       0.01309        0.01662      0.04314  0.014290  21.640  0.41888   \n",
              "1       0.01072        0.01689      0.02982  0.011112  27.183  0.43493   \n",
              "2       0.00844        0.01458      0.02202  0.020220  23.047  0.46222   \n",
              "3       0.01265        0.01963      0.03317  0.027837  24.445  0.48730   \n",
              "4       0.00929        0.01819      0.02036  0.011625  26.126  0.47188   \n",
              "\n",
              "       DFA      PPE  \n",
              "0  0.54842  0.16006  \n",
              "1  0.56477  0.10810  \n",
              "2  0.54405  0.21014  \n",
              "3  0.57794  0.33277  \n",
              "4  0.56122  0.19361  \n",
              "\n",
              "[5 rows x 22 columns]"
            ],
            "text/html": [
              "\n",
              "  <div id=\"df-ae0bf9a1-6df2-4637-8e3c-bf7fc70b0f8c\" class=\"colab-df-container\">\n",
              "    <div>\n",
              "<style scoped>\n",
              "    .dataframe tbody tr th:only-of-type {\n",
              "        vertical-align: middle;\n",
              "    }\n",
              "\n",
              "    .dataframe tbody tr th {\n",
              "        vertical-align: top;\n",
              "    }\n",
              "\n",
              "    .dataframe thead th {\n",
              "        text-align: right;\n",
              "    }\n",
              "</style>\n",
              "<table border=\"1\" class=\"dataframe\">\n",
              "  <thead>\n",
              "    <tr style=\"text-align: right;\">\n",
              "      <th></th>\n",
              "      <th>subject#</th>\n",
              "      <th>age</th>\n",
              "      <th>sex</th>\n",
              "      <th>test_time</th>\n",
              "      <th>motor_UPDRS</th>\n",
              "      <th>total_UPDRS</th>\n",
              "      <th>Jitter(%)</th>\n",
              "      <th>Jitter(Abs)</th>\n",
              "      <th>Jitter:RAP</th>\n",
              "      <th>Jitter:PPQ5</th>\n",
              "      <th>...</th>\n",
              "      <th>Shimmer(dB)</th>\n",
              "      <th>Shimmer:APQ3</th>\n",
              "      <th>Shimmer:APQ5</th>\n",
              "      <th>Shimmer:APQ11</th>\n",
              "      <th>Shimmer:DDA</th>\n",
              "      <th>NHR</th>\n",
              "      <th>HNR</th>\n",
              "      <th>RPDE</th>\n",
              "      <th>DFA</th>\n",
              "      <th>PPE</th>\n",
              "    </tr>\n",
              "  </thead>\n",
              "  <tbody>\n",
              "    <tr>\n",
              "      <th>0</th>\n",
              "      <td>1</td>\n",
              "      <td>72</td>\n",
              "      <td>0</td>\n",
              "      <td>5.6431</td>\n",
              "      <td>28.199</td>\n",
              "      <td>34.398</td>\n",
              "      <td>0.00662</td>\n",
              "      <td>0.000034</td>\n",
              "      <td>0.00401</td>\n",
              "      <td>0.00317</td>\n",
              "      <td>...</td>\n",
              "      <td>0.230</td>\n",
              "      <td>0.01438</td>\n",
              "      <td>0.01309</td>\n",
              "      <td>0.01662</td>\n",
              "      <td>0.04314</td>\n",
              "      <td>0.014290</td>\n",
              "      <td>21.640</td>\n",
              "      <td>0.41888</td>\n",
              "      <td>0.54842</td>\n",
              "      <td>0.16006</td>\n",
              "    </tr>\n",
              "    <tr>\n",
              "      <th>1</th>\n",
              "      <td>1</td>\n",
              "      <td>72</td>\n",
              "      <td>0</td>\n",
              "      <td>12.6660</td>\n",
              "      <td>28.447</td>\n",
              "      <td>34.894</td>\n",
              "      <td>0.00300</td>\n",
              "      <td>0.000017</td>\n",
              "      <td>0.00132</td>\n",
              "      <td>0.00150</td>\n",
              "      <td>...</td>\n",
              "      <td>0.179</td>\n",
              "      <td>0.00994</td>\n",
              "      <td>0.01072</td>\n",
              "      <td>0.01689</td>\n",
              "      <td>0.02982</td>\n",
              "      <td>0.011112</td>\n",
              "      <td>27.183</td>\n",
              "      <td>0.43493</td>\n",
              "      <td>0.56477</td>\n",
              "      <td>0.10810</td>\n",
              "    </tr>\n",
              "    <tr>\n",
              "      <th>2</th>\n",
              "      <td>1</td>\n",
              "      <td>72</td>\n",
              "      <td>0</td>\n",
              "      <td>19.6810</td>\n",
              "      <td>28.695</td>\n",
              "      <td>35.389</td>\n",
              "      <td>0.00481</td>\n",
              "      <td>0.000025</td>\n",
              "      <td>0.00205</td>\n",
              "      <td>0.00208</td>\n",
              "      <td>...</td>\n",
              "      <td>0.181</td>\n",
              "      <td>0.00734</td>\n",
              "      <td>0.00844</td>\n",
              "      <td>0.01458</td>\n",
              "      <td>0.02202</td>\n",
              "      <td>0.020220</td>\n",
              "      <td>23.047</td>\n",
              "      <td>0.46222</td>\n",
              "      <td>0.54405</td>\n",
              "      <td>0.21014</td>\n",
              "    </tr>\n",
              "    <tr>\n",
              "      <th>3</th>\n",
              "      <td>1</td>\n",
              "      <td>72</td>\n",
              "      <td>0</td>\n",
              "      <td>25.6470</td>\n",
              "      <td>28.905</td>\n",
              "      <td>35.810</td>\n",
              "      <td>0.00528</td>\n",
              "      <td>0.000027</td>\n",
              "      <td>0.00191</td>\n",
              "      <td>0.00264</td>\n",
              "      <td>...</td>\n",
              "      <td>0.327</td>\n",
              "      <td>0.01106</td>\n",
              "      <td>0.01265</td>\n",
              "      <td>0.01963</td>\n",
              "      <td>0.03317</td>\n",
              "      <td>0.027837</td>\n",
              "      <td>24.445</td>\n",
              "      <td>0.48730</td>\n",
              "      <td>0.57794</td>\n",
              "      <td>0.33277</td>\n",
              "    </tr>\n",
              "    <tr>\n",
              "      <th>4</th>\n",
              "      <td>1</td>\n",
              "      <td>72</td>\n",
              "      <td>0</td>\n",
              "      <td>33.6420</td>\n",
              "      <td>29.187</td>\n",
              "      <td>36.375</td>\n",
              "      <td>0.00335</td>\n",
              "      <td>0.000020</td>\n",
              "      <td>0.00093</td>\n",
              "      <td>0.00130</td>\n",
              "      <td>...</td>\n",
              "      <td>0.176</td>\n",
              "      <td>0.00679</td>\n",
              "      <td>0.00929</td>\n",
              "      <td>0.01819</td>\n",
              "      <td>0.02036</td>\n",
              "      <td>0.011625</td>\n",
              "      <td>26.126</td>\n",
              "      <td>0.47188</td>\n",
              "      <td>0.56122</td>\n",
              "      <td>0.19361</td>\n",
              "    </tr>\n",
              "  </tbody>\n",
              "</table>\n",
              "<p>5 rows × 22 columns</p>\n",
              "</div>\n",
              "    <div class=\"colab-df-buttons\">\n",
              "\n",
              "  <div class=\"colab-df-container\">\n",
              "    <button class=\"colab-df-convert\" onclick=\"convertToInteractive('df-ae0bf9a1-6df2-4637-8e3c-bf7fc70b0f8c')\"\n",
              "            title=\"Convert this dataframe to an interactive table.\"\n",
              "            style=\"display:none;\">\n",
              "\n",
              "  <svg xmlns=\"http://www.w3.org/2000/svg\" height=\"24px\" viewBox=\"0 -960 960 960\">\n",
              "    <path d=\"M120-120v-720h720v720H120Zm60-500h600v-160H180v160Zm220 220h160v-160H400v160Zm0 220h160v-160H400v160ZM180-400h160v-160H180v160Zm440 0h160v-160H620v160ZM180-180h160v-160H180v160Zm440 0h160v-160H620v160Z\"/>\n",
              "  </svg>\n",
              "    </button>\n",
              "\n",
              "  <style>\n",
              "    .colab-df-container {\n",
              "      display:flex;\n",
              "      gap: 12px;\n",
              "    }\n",
              "\n",
              "    .colab-df-convert {\n",
              "      background-color: #E8F0FE;\n",
              "      border: none;\n",
              "      border-radius: 50%;\n",
              "      cursor: pointer;\n",
              "      display: none;\n",
              "      fill: #1967D2;\n",
              "      height: 32px;\n",
              "      padding: 0 0 0 0;\n",
              "      width: 32px;\n",
              "    }\n",
              "\n",
              "    .colab-df-convert:hover {\n",
              "      background-color: #E2EBFA;\n",
              "      box-shadow: 0px 1px 2px rgba(60, 64, 67, 0.3), 0px 1px 3px 1px rgba(60, 64, 67, 0.15);\n",
              "      fill: #174EA6;\n",
              "    }\n",
              "\n",
              "    .colab-df-buttons div {\n",
              "      margin-bottom: 4px;\n",
              "    }\n",
              "\n",
              "    [theme=dark] .colab-df-convert {\n",
              "      background-color: #3B4455;\n",
              "      fill: #D2E3FC;\n",
              "    }\n",
              "\n",
              "    [theme=dark] .colab-df-convert:hover {\n",
              "      background-color: #434B5C;\n",
              "      box-shadow: 0px 1px 3px 1px rgba(0, 0, 0, 0.15);\n",
              "      filter: drop-shadow(0px 1px 2px rgba(0, 0, 0, 0.3));\n",
              "      fill: #FFFFFF;\n",
              "    }\n",
              "  </style>\n",
              "\n",
              "    <script>\n",
              "      const buttonEl =\n",
              "        document.querySelector('#df-ae0bf9a1-6df2-4637-8e3c-bf7fc70b0f8c button.colab-df-convert');\n",
              "      buttonEl.style.display =\n",
              "        google.colab.kernel.accessAllowed ? 'block' : 'none';\n",
              "\n",
              "      async function convertToInteractive(key) {\n",
              "        const element = document.querySelector('#df-ae0bf9a1-6df2-4637-8e3c-bf7fc70b0f8c');\n",
              "        const dataTable =\n",
              "          await google.colab.kernel.invokeFunction('convertToInteractive',\n",
              "                                                    [key], {});\n",
              "        if (!dataTable) return;\n",
              "\n",
              "        const docLinkHtml = 'Like what you see? Visit the ' +\n",
              "          '<a target=\"_blank\" href=https://colab.research.google.com/notebooks/data_table.ipynb>data table notebook</a>'\n",
              "          + ' to learn more about interactive tables.';\n",
              "        element.innerHTML = '';\n",
              "        dataTable['output_type'] = 'display_data';\n",
              "        await google.colab.output.renderOutput(dataTable, element);\n",
              "        const docLink = document.createElement('div');\n",
              "        docLink.innerHTML = docLinkHtml;\n",
              "        element.appendChild(docLink);\n",
              "      }\n",
              "    </script>\n",
              "  </div>\n",
              "\n",
              "\n",
              "    <div id=\"df-336f15df-177f-40da-8bb3-33d2a049ed56\">\n",
              "      <button class=\"colab-df-quickchart\" onclick=\"quickchart('df-336f15df-177f-40da-8bb3-33d2a049ed56')\"\n",
              "                title=\"Suggest charts\"\n",
              "                style=\"display:none;\">\n",
              "\n",
              "<svg xmlns=\"http://www.w3.org/2000/svg\" height=\"24px\"viewBox=\"0 0 24 24\"\n",
              "     width=\"24px\">\n",
              "    <g>\n",
              "        <path d=\"M19 3H5c-1.1 0-2 .9-2 2v14c0 1.1.9 2 2 2h14c1.1 0 2-.9 2-2V5c0-1.1-.9-2-2-2zM9 17H7v-7h2v7zm4 0h-2V7h2v10zm4 0h-2v-4h2v4z\"/>\n",
              "    </g>\n",
              "</svg>\n",
              "      </button>\n",
              "\n",
              "<style>\n",
              "  .colab-df-quickchart {\n",
              "      --bg-color: #E8F0FE;\n",
              "      --fill-color: #1967D2;\n",
              "      --hover-bg-color: #E2EBFA;\n",
              "      --hover-fill-color: #174EA6;\n",
              "      --disabled-fill-color: #AAA;\n",
              "      --disabled-bg-color: #DDD;\n",
              "  }\n",
              "\n",
              "  [theme=dark] .colab-df-quickchart {\n",
              "      --bg-color: #3B4455;\n",
              "      --fill-color: #D2E3FC;\n",
              "      --hover-bg-color: #434B5C;\n",
              "      --hover-fill-color: #FFFFFF;\n",
              "      --disabled-bg-color: #3B4455;\n",
              "      --disabled-fill-color: #666;\n",
              "  }\n",
              "\n",
              "  .colab-df-quickchart {\n",
              "    background-color: var(--bg-color);\n",
              "    border: none;\n",
              "    border-radius: 50%;\n",
              "    cursor: pointer;\n",
              "    display: none;\n",
              "    fill: var(--fill-color);\n",
              "    height: 32px;\n",
              "    padding: 0;\n",
              "    width: 32px;\n",
              "  }\n",
              "\n",
              "  .colab-df-quickchart:hover {\n",
              "    background-color: var(--hover-bg-color);\n",
              "    box-shadow: 0 1px 2px rgba(60, 64, 67, 0.3), 0 1px 3px 1px rgba(60, 64, 67, 0.15);\n",
              "    fill: var(--button-hover-fill-color);\n",
              "  }\n",
              "\n",
              "  .colab-df-quickchart-complete:disabled,\n",
              "  .colab-df-quickchart-complete:disabled:hover {\n",
              "    background-color: var(--disabled-bg-color);\n",
              "    fill: var(--disabled-fill-color);\n",
              "    box-shadow: none;\n",
              "  }\n",
              "\n",
              "  .colab-df-spinner {\n",
              "    border: 2px solid var(--fill-color);\n",
              "    border-color: transparent;\n",
              "    border-bottom-color: var(--fill-color);\n",
              "    animation:\n",
              "      spin 1s steps(1) infinite;\n",
              "  }\n",
              "\n",
              "  @keyframes spin {\n",
              "    0% {\n",
              "      border-color: transparent;\n",
              "      border-bottom-color: var(--fill-color);\n",
              "      border-left-color: var(--fill-color);\n",
              "    }\n",
              "    20% {\n",
              "      border-color: transparent;\n",
              "      border-left-color: var(--fill-color);\n",
              "      border-top-color: var(--fill-color);\n",
              "    }\n",
              "    30% {\n",
              "      border-color: transparent;\n",
              "      border-left-color: var(--fill-color);\n",
              "      border-top-color: var(--fill-color);\n",
              "      border-right-color: var(--fill-color);\n",
              "    }\n",
              "    40% {\n",
              "      border-color: transparent;\n",
              "      border-right-color: var(--fill-color);\n",
              "      border-top-color: var(--fill-color);\n",
              "    }\n",
              "    60% {\n",
              "      border-color: transparent;\n",
              "      border-right-color: var(--fill-color);\n",
              "    }\n",
              "    80% {\n",
              "      border-color: transparent;\n",
              "      border-right-color: var(--fill-color);\n",
              "      border-bottom-color: var(--fill-color);\n",
              "    }\n",
              "    90% {\n",
              "      border-color: transparent;\n",
              "      border-bottom-color: var(--fill-color);\n",
              "    }\n",
              "  }\n",
              "</style>\n",
              "\n",
              "      <script>\n",
              "        async function quickchart(key) {\n",
              "          const quickchartButtonEl =\n",
              "            document.querySelector('#' + key + ' button');\n",
              "          quickchartButtonEl.disabled = true;  // To prevent multiple clicks.\n",
              "          quickchartButtonEl.classList.add('colab-df-spinner');\n",
              "          try {\n",
              "            const charts = await google.colab.kernel.invokeFunction(\n",
              "                'suggestCharts', [key], {});\n",
              "          } catch (error) {\n",
              "            console.error('Error during call to suggestCharts:', error);\n",
              "          }\n",
              "          quickchartButtonEl.classList.remove('colab-df-spinner');\n",
              "          quickchartButtonEl.classList.add('colab-df-quickchart-complete');\n",
              "        }\n",
              "        (() => {\n",
              "          let quickchartButtonEl =\n",
              "            document.querySelector('#df-336f15df-177f-40da-8bb3-33d2a049ed56 button');\n",
              "          quickchartButtonEl.style.display =\n",
              "            google.colab.kernel.accessAllowed ? 'block' : 'none';\n",
              "        })();\n",
              "      </script>\n",
              "    </div>\n",
              "\n",
              "    </div>\n",
              "  </div>\n"
            ],
            "application/vnd.google.colaboratory.intrinsic+json": {
              "type": "dataframe",
              "variable_name": "df"
            }
          },
          "metadata": {},
          "execution_count": 2
        }
      ],
      "source": [
        "# Cell 2: Load Dataset\n",
        "# replace with your actual path\n",
        "df = pd.read_csv('parkinsons_updrs.data')\n",
        "print(\"Original shape:\", df.shape)\n",
        "df.head()\n"
      ]
    },
    {
      "cell_type": "code",
      "execution_count": null,
      "metadata": {
        "colab": {
          "base_uri": "https://localhost:8080/"
        },
        "id": "-YMu5uURFFtg",
        "outputId": "c78f8796-aa8e-42af-e874-0e3ca7704b8f"
      },
      "outputs": [
        {
          "output_type": "stream",
          "name": "stdout",
          "text": [
            "Features shape: (5875, 19)\n",
            "Target distribution:\n",
            " target\n",
            "0    2939\n",
            "1    2936\n",
            "Name: count, dtype: int64\n"
          ]
        }
      ],
      "source": [
        "# Cell 3: Data Cleaning & Feature Engineering\n",
        "# 1. Drop NA\n",
        "df = df.dropna()\n",
        "\n",
        "# 2. Encode 'sex' if needed\n",
        "if df['sex'].dtype == 'object':\n",
        "    df['sex'] = LabelEncoder().fit_transform(df['sex'])\n",
        "\n",
        "# 3. Binarize motor_UPDRS at median\n",
        "threshold = df['motor_UPDRS'].median()\n",
        "df['target'] = (df['motor_UPDRS'] > threshold).astype(int)\n",
        "\n",
        "# 4. Select features and target\n",
        "X = df.drop(columns=['su bject#','motor_UPDRS','total_UPDRS','target'])\n",
        "y = df['target']\n",
        "\n",
        "# 5. Standardize all features\n",
        "scaler = StandardScaler()\n",
        "X_scaled = scaler.fit_transform(X)\n",
        "\n",
        "print(\"Features shape:\", X_scaled.shape)\n",
        "print(\"Target distribution:\\n\", y.value_counts())\n"
      ]
    },
    {
      "cell_type": "code",
      "execution_count": null,
      "metadata": {
        "colab": {
          "base_uri": "https://localhost:8080/"
        },
        "id": "kvZNCgXCFTfi",
        "outputId": "fcda472d-1fe3-48c3-cbc6-ea6a76da873f"
      },
      "outputs": [
        {
          "output_type": "stream",
          "name": "stdout",
          "text": [
            "Train size: (4700, 19) Test size: (1175, 19)\n"
          ]
        }
      ],
      "source": [
        "# Cell 4: Train–Test Split (stratified by target)\n",
        "X_train, X_test, y_train, y_test = train_test_split(\n",
        "    X_scaled, y, test_size=0.2, random_state=42, stratify=y\n",
        ")\n",
        "print(\"Train size:\", X_train.shape, \"Test size:\", X_test.shape)\n"
      ]
    },
    {
      "cell_type": "code",
      "execution_count": null,
      "metadata": {
        "colab": {
          "base_uri": "https://localhost:8080/",
          "height": 469
        },
        "id": "-0EGYl9yFX0r",
        "outputId": "7f5159ef-6c82-43e0-e7a5-4efdf0995be0"
      },
      "outputs": [
        {
          "output_type": "display_data",
          "data": {
            "text/plain": [
              "<Figure size 640x480 with 1 Axes>"
            ],
            "image/png": "[encoded data removed]"
          },
          "metadata": {}
        },
        {
          "output_type": "stream",
          "name": "stdout",
          "text": [
            "Counts before SMOTE: {'Low': np.int64(2351), 'High': np.int64(2349)}\n"
          ]
        }
      ],
      "source": [
        "# Cell 5: Plot Class Imbalance (before SMOTE)\n",
        "counts = np.bincount(y_train)\n",
        "plt.bar(['Low','High'], counts)\n",
        "plt.title(\"Training set class counts (before SMOTE)\")\n",
        "plt.ylabel(\"Number of samples\")\n",
        "plt.show()\n",
        "print(f\"Counts before SMOTE: {dict(zip(['Low','High'], counts))}\")\n"
      ]
    },
    {
      "cell_type": "code",
      "execution_count": null,
      "metadata": {
        "colab": {
          "base_uri": "https://localhost:8080/"
        },
        "id": "T0ys3vOtFamd",
        "outputId": "d829d9c7-f09b-4c58-8836-ab1aa88012d7"
      },
      "outputs": [
        {
          "output_type": "stream",
          "name": "stdout",
          "text": [
            "Counts after SMOTE: {'Low': np.int64(2351), 'High': np.int64(2351)}\n"
          ]
        }
      ],
      "source": [
        "# Cell 6: Apply SMOTE\n",
        "sm = SMOTE(random_state=42)\n",
        "X_train_smote, y_train_smote = sm.fit_resample(X_train, y_train)\n",
        "print(\"Counts after SMOTE:\", dict(zip(['Low','High'], np.bincount(y_train_smote))))\n"
      ]
    },
    {
      "cell_type": "code",
      "execution_count": null,
      "metadata": {
        "colab": {
          "base_uri": "https://localhost:8080/"
        },
        "id": "Ojcc7XUaFeUA",
        "outputId": "80f2ce64-961a-4e08-de00-d958021092a1"
      },
      "outputs": [
        {
          "output_type": "stream",
          "name": "stdout",
          "text": [
            "\n",
            "--- SVM kernel=linear ---\n",
            "Classification Report:\n",
            "              precision    recall  f1-score   support\n",
            "\n",
            "           0       0.66      0.60      0.62       588\n",
            "           1       0.63      0.69      0.66       587\n",
            "\n",
            "    accuracy                           0.64      1175\n",
            "   macro avg       0.64      0.64      0.64      1175\n",
            "weighted avg       0.64      0.64      0.64      1175\n",
            "\n",
            "Confusion Matrix:\n",
            " [[350 238]\n",
            " [184 403]]\n",
            "ROC-AUC: 0.689844592010569\n",
            "\n",
            "--- SVM kernel=poly ---\n",
            "Classification Report:\n",
            "              precision    recall  f1-score   support\n",
            "\n",
            "           0       0.80      0.74      0.77       588\n",
            "           1       0.76      0.81      0.78       587\n",
            "\n",
            "    accuracy                           0.78      1175\n",
            "   macro avg       0.78      0.78      0.78      1175\n",
            "weighted avg       0.78      0.78      0.78      1175\n",
            "\n",
            "Confusion Matrix:\n",
            " [[437 151]\n",
            " [112 475]]\n",
            "ROC-AUC: 0.86884481220086\n",
            "\n",
            "--- SVM kernel=rbf ---\n",
            "Classification Report:\n",
            "              precision    recall  f1-score   support\n",
            "\n",
            "           0       0.83      0.81      0.82       588\n",
            "           1       0.81      0.83      0.82       587\n",
            "\n",
            "    accuracy                           0.82      1175\n",
            "   macro avg       0.82      0.82      0.82      1175\n",
            "weighted avg       0.82      0.82      0.82      1175\n",
            "\n",
            "Confusion Matrix:\n",
            " [[474 114]\n",
            " [100 487]]\n",
            "ROC-AUC: 0.91160808446036\n"
          ]
        }
      ],
      "source": [
        "# Cell 7: Baseline SVM models (linear, poly, rbf) without tuning\n",
        "for kernel in ['linear', 'poly', 'rbf']:\n",
        "    print(f\"\\n--- SVM kernel={kernel} ---\")\n",
        "    clf = SVC(kernel=kernel, probability=True, random_state=42)\n",
        "    clf.fit(X_train_smote, y_train_smote)\n",
        "    y_pred = clf.predict(X_test)\n",
        "\n",
        "    print(\"Classification Report:\")\n",
        "    print(classification_report(y_test, y_pred))\n",
        "    print(\"Confusion Matrix:\\n\", confusion_matrix(y_test, y_pred))\n",
        "    print(\"ROC-AUC:\", roc_auc_score(y_test, clf.predict_proba(X_test)[:,1]))\n"
      ]
    },
    {
      "cell_type": "code",
      "execution_count": null,
      "metadata": {
        "colab": {
          "base_uri": "https://localhost:8080/"
        },
        "id": "8BYYWJhMFps7",
        "outputId": "21f0648a-5207-4112-d84e-fe7fb347bef6"
      },
      "outputs": [
        {
          "name": "stdout",
          "output_type": "stream",
          "text": [
            "\n",
            "🔹 Tuning Linear SVM\n",
            "Fitting 5 folds for each of 5 candidates, totalling 25 fits\n",
            "Best Linear Params: {'C': 0.01}\n",
            "Classification Report:\n",
            "               precision    recall  f1-score   support\n",
            "\n",
            "           0       0.66      0.62      0.64       588\n",
            "           1       0.64      0.67      0.66       587\n",
            "\n",
            "    accuracy                           0.65      1175\n",
            "   macro avg       0.65      0.65      0.65      1175\n",
            "weighted avg       0.65      0.65      0.65      1175\n",
            "\n",
            "Confusion Matrix:\n",
            " [[366 222]\n",
            " [192 395]]\n",
            "ROC-AUC: 0.67491221360776\n"
          ]
        }
      ],
      "source": [
        "print(\"\\n🔹 Tuning Linear SVM\")\n",
        "\n",
        "from sklearn.model_selection import RandomizedSearchCV\n",
        "\n",
        "param_dist_linear = {\n",
        "    'C': [0.01, 0.1, 1, 10, 100],\n",
        "}\n",
        "\n",
        "random_search_linear = RandomizedSearchCV(\n",
        "    estimator=SVC(kernel='linear', probability=True, random_state=42),\n",
        "    param_distributions=param_dist_linear,\n",
        "    n_iter=5,\n",
        "    scoring='f1',\n",
        "    cv=StratifiedKFold(n_splits=5, shuffle=True, random_state=42),\n",
        "    random_state=42,\n",
        "    n_jobs=-1,\n",
        "    verbose=1\n",
        ")\n",
        "\n",
        "random_search_linear.fit(X_train_smote, y_train_smote)\n",
        "\n",
        "# Evaluation\n",
        "best_linear = random_search_linear.best_estimator_\n",
        "y_pred_linear = best_linear.predict(X_test)\n",
        "\n",
        "print(\"Best Linear Params:\", random_search_linear.best_params_)\n",
        "print(\"Classification Report:\\n\", classification_report(y_test, y_pred_linear))\n",
        "print(\"Confusion Matrix:\\n\", confusion_matrix(y_test, y_pred_linear))\n",
        "print(\"ROC-AUC:\", roc_auc_score(y_test, best_linear.predict_proba(X_test)[:,1]))\n"
      ]
    },
    {
      "cell_type": "code",
      "execution_count": null,
      "metadata": {
        "colab": {
          "base_uri": "https://localhost:8080/"
        },
        "id": "r9MDK2hfG2TP",
        "outputId": "f417b1be-27a3-4038-e426-2ac608829ac9"
      },
      "outputs": [
        {
          "name": "stdout",
          "output_type": "stream",
          "text": [
            "\n",
            "🔹 Tuning Polynomial SVM\n",
            "Fitting 5 folds for each of 10 candidates, totalling 50 fits\n",
            "Best Polynomial Params: {'gamma': 'scale', 'degree': 4, 'C': 100}\n",
            "Classification Report:\n",
            "               precision    recall  f1-score   support\n",
            "\n",
            "           0       0.82      0.90      0.86       588\n",
            "           1       0.89      0.80      0.84       587\n",
            "\n",
            "    accuracy                           0.85      1175\n",
            "   macro avg       0.86      0.85      0.85      1175\n",
            "weighted avg       0.86      0.85      0.85      1175\n",
            "\n",
            "Confusion Matrix:\n",
            " [[530  58]\n",
            " [116 471]]\n",
            "ROC-AUC: 0.7245767131384069\n"
          ]
        }
      ],
      "source": [
        "print(\"\\n🔹 Tuning Polynomial SVM\")\n",
        "\n",
        "param_dist_poly = {\n",
        "    'C': [0.01, 0.1, 1, 10, 100],\n",
        "    'degree': [2, 3, 4],\n",
        "    'gamma': ['scale', 'auto']\n",
        "}\n",
        "\n",
        "random_search_poly = RandomizedSearchCV(\n",
        "    estimator=SVC(kernel='poly', probability=True, random_state=42),\n",
        "    param_distributions=param_dist_poly,\n",
        "    n_iter=10,\n",
        "    scoring='f1',\n",
        "    cv=StratifiedKFold(n_splits=5, shuffle=True, random_state=42),\n",
        "    random_state=42,\n",
        "    n_jobs=-1,\n",
        "    verbose=1\n",
        ")\n",
        "\n",
        "random_search_poly.fit(X_train_smote, y_train_smote)\n",
        "\n",
        "# Evaluation\n",
        "best_poly = random_search_poly.best_estimator_\n",
        "y_pred_poly = best_poly.predict(X_test)\n",
        "\n",
        "print(\"Best Polynomial Params:\", random_search_poly.best_params_)\n",
        "print(\"Classification Report:\\n\", classification_report(y_test, y_pred_poly))\n",
        "print(\"Confusion Matrix:\\n\", confusion_matrix(y_test, y_pred_poly))\n",
        "print(\"ROC-AUC:\", roc_auc_score(y_test, best_poly.predict_proba(X_test)[:,1]))\n"
      ]
    },
    {
      "cell_type": "code",
      "execution_count": null,
      "metadata": {
        "colab": {
          "base_uri": "https://localhost:8080/"
        },
        "id": "j5LtoeOeREbu",
        "outputId": "4df4280a-1126-4469-9604-4b7045f7dd7c"
      },
      "outputs": [
        {
          "name": "stdout",
          "output_type": "stream",
          "text": [
            "\n",
            "🔹 Tuning RBF SVM\n",
            "Fitting 5 folds for each of 10 candidates, totalling 50 fits\n",
            "Best RBF Params: {'gamma': 1, 'C': 10}\n",
            "Classification Report:\n",
            "               precision    recall  f1-score   support\n",
            "\n",
            "           0       0.92      0.88      0.90       588\n",
            "           1       0.88      0.93      0.90       587\n",
            "\n",
            "    accuracy                           0.90      1175\n",
            "   macro avg       0.90      0.90      0.90      1175\n",
            "weighted avg       0.90      0.90      0.90      1175\n",
            "\n",
            "Confusion Matrix:\n",
            " [[515  73]\n",
            " [ 43 544]]\n",
            "ROC-AUC: 0.9592039541540636\n"
          ]
        }
      ],
      "source": [
        "print(\"\\n🔹 Tuning RBF SVM\")\n",
        "\n",
        "param_dist_rbf = {\n",
        "    'C': [0.01, 0.1, 1, 10, 100],\n",
        "    'gamma': ['scale', 'auto', 0.001, 0.01, 0.1, 1]\n",
        "}\n",
        "\n",
        "random_search_rbf = RandomizedSearchCV(\n",
        "    estimator=SVC(kernel='rbf', probability=True, random_state=42),\n",
        "    param_distributions=param_dist_rbf,\n",
        "    n_iter=10,\n",
        "    scoring='f1',\n",
        "    cv=StratifiedKFold(n_splits=5, shuffle=True, random_state=42),\n",
        "    random_state=42,\n",
        "    n_jobs=-1,\n",
        "    verbose=1\n",
        ")\n",
        "\n",
        "random_search_rbf.fit(X_train_smote, y_train_smote)\n",
        "\n",
        "# Evaluation\n",
        "best_rbf = random_search_rbf.best_estimator_\n",
        "y_pred_rbf = best_rbf.predict(X_test)\n",
        "\n",
        "print(\"Best RBF Params:\", random_search_rbf.best_params_)\n",
        "print(\"Classification Report:\\n\", classification_report(y_test, y_pred_rbf))\n",
        "print(\"Confusion Matrix:\\n\", confusion_matrix(y_test, y_pred_rbf))\n",
        "print(\"ROC-AUC:\", roc_auc_score(y_test, best_rbf.predict_proba(X_test)[:,1]))\n"
      ]
    },
    {
      "cell_type": "code",
      "execution_count": null,
      "metadata": {
        "id": "cJSzhDhrUut6"
      },
      "outputs": [],
      "source": [
        "##  Random Forest Classifier (Standard + Tuned) — Shas Workflow\n"
      ]
    },
    {
      "cell_type": "code",
      "execution_count": null,
      "metadata": {
        "colab": {
          "base_uri": "https://localhost:8080/"
        },
        "id": "tXYovhVOXbLg",
        "outputId": "3d4daa44-3e6b-469d-e4a1-f44f9ca6970f"
      },
      "outputs": [
        {
          "output_type": "stream",
          "name": "stdout",
          "text": [
            "Balanced class distribution after SMOTE:\n",
            "target\n",
            "1    2351\n",
            "0    2351\n",
            "Name: count, dtype: int64\n"
          ]
        }
      ],
      "source": [
        "from imblearn.over_sampling import SMOTE\n",
        "\n",
        "# Apply SMOTE to balance training data\n",
        "sm = SMOTE(random_state=42)\n",
        "X_train_smote, y_train_smote = sm.fit_resample(X_train, y_train)\n",
        "\n",
        "# Confirm class balance\n",
        "import pandas as pd\n",
        "print(\"Balanced class distribution after SMOTE:\")\n",
        "print(pd.Series(y_train_smote).value_counts())\n"
      ]
    },
    {
      "cell_type": "code",
      "execution_count": null,
      "metadata": {
        "colab": {
          "base_uri": "https://localhost:8080/"
        },
        "id": "k6ROEtv5XdD6",
        "outputId": "5884605b-c688-424d-8ba6-bf7223df41e5"
      },
      "outputs": [
        {
          "output_type": "stream",
          "name": "stdout",
          "text": [
            " Classification Report (RF - Default):\n",
            "              precision    recall  f1-score   support\n",
            "\n",
            "           0       0.95      0.94      0.94       588\n",
            "           1       0.94      0.95      0.94       587\n",
            "\n",
            "    accuracy                           0.94      1175\n",
            "   macro avg       0.94      0.94      0.94      1175\n",
            "weighted avg       0.94      0.94      0.94      1175\n",
            "\n",
            " Confusion Matrix:\n",
            "[[553  35]\n",
            " [ 30 557]]\n",
            " ROC AUC Score: 0.986921855624703\n"
          ]
        }
      ],
      "source": [
        "from sklearn.ensemble import RandomForestClassifier\n",
        "from sklearn.metrics import classification_report, confusion_matrix, roc_auc_score\n",
        "\n",
        "# Initialize and train Random Forest\n",
        "rf_clf = RandomForestClassifier(random_state=42)\n",
        "rf_clf.fit(X_train_smote, y_train_smote)\n",
        "\n",
        "# Predict\n",
        "y_pred_rf = rf_clf.predict(X_test)\n",
        "\n",
        "# Evaluation\n",
        "print(\" Classification Report (RF - Default):\")\n",
        "print(classification_report(y_test, y_pred_rf))\n",
        "\n",
        "print(\" Confusion Matrix:\")\n",
        "print(confusion_matrix(y_test, y_pred_rf))\n",
        "\n",
        "print(\" ROC AUC Score:\", roc_auc_score(y_test, rf_clf.predict_proba(X_test)[:, 1]))\n"
      ]
    },
    {
      "cell_type": "code",
      "execution_count": null,
      "metadata": {
        "id": "3vS06z24YBnZ",
        "colab": {
          "base_uri": "https://localhost:8080/"
        },
        "outputId": "aba294d4-16fc-4f37-9c82-24a551478758"
      },
      "outputs": [
        {
          "output_type": "stream",
          "name": "stdout",
          "text": [
            "Fitting 5 folds for each of 20 candidates, totalling 100 fits\n",
            "Best RF Parameters (RandomizedSearchCV): {'n_estimators': 200, 'min_samples_split': 2, 'min_samples_leaf': 1, 'max_features': None, 'max_depth': 20, 'bootstrap': True}\n",
            "\n",
            " Classification Report (Tuned RF):\n",
            "              precision    recall  f1-score   support\n",
            "\n",
            "           0       0.98      0.99      0.99       588\n",
            "           1       0.99      0.98      0.99       587\n",
            "\n",
            "    accuracy                           0.99      1175\n",
            "   macro avg       0.99      0.99      0.99      1175\n",
            "weighted avg       0.99      0.99      0.99      1175\n",
            "\n",
            " F1 Score: 0.9871904355251921\n",
            " ROC AUC Score: 0.9992249881213132\n"
          ]
        },
        {
          "output_type": "display_data",
          "data": {
            "text/plain": [
              "<Figure size 600x400 with 1 Axes>"
            ],
            "image/png": "[encoded data removed]"
          },
          "metadata": {}
        }
      ],
      "source": [
        "from sklearn.ensemble import RandomForestClassifier\n",
        "from sklearn.model_selection import RandomizedSearchCV, StratifiedKFold\n",
        "from sklearn.metrics import classification_report, confusion_matrix, roc_auc_score, f1_score\n",
        "import seaborn as sns\n",
        "import matplotlib.pyplot as plt\n",
        "\n",
        "# 1. Hyperparameter space (same as before)\n",
        "param_grid = {\n",
        "    'n_estimators': [100, 200],\n",
        "    'max_depth': [None, 10, 20],\n",
        "    'min_samples_split': [2, 5],\n",
        "    'min_samples_leaf': [1, 2],\n",
        "    'max_features': ['sqrt', 'log2', None],\n",
        "    'bootstrap': [True, False]\n",
        "}\n",
        "\n",
        "# 2. CV splitter\n",
        "cv = StratifiedKFold(n_splits=5, shuffle=True, random_state=42)\n",
        "\n",
        "# 3. RandomizedSearchCV setup & fit\n",
        "rf_random = RandomizedSearchCV(\n",
        "    estimator=RandomForestClassifier(random_state=42),\n",
        "    param_distributions=param_grid,\n",
        "    n_iter=20,\n",
        "    scoring='f1',\n",
        "    cv=cv,\n",
        "    n_jobs=-1,\n",
        "    random_state=42,\n",
        "    verbose=1\n",
        ")\n",
        "rf_random.fit(X_train_smote, y_train_smote)\n",
        "\n",
        "print(\"Best RF Parameters (RandomizedSearchCV):\", rf_random.best_params_)\n",
        "\n",
        "# 4. Extract best model and predict\n",
        "best_rf_model = rf_random.best_estimator_\n",
        "y_pred_best = best_rf_model.predict(X_test)\n",
        "\n",
        "# 5. Evaluation metrics\n",
        "print(\"\\n Classification Report (Tuned RF):\")\n",
        "print(classification_report(y_test, y_pred_best))\n",
        "print(\" F1 Score:\", f1_score(y_test, y_pred_best))\n",
        "print(\" ROC AUC Score:\", roc_auc_score(y_test, best_rf_model.predict_proba(X_test)[:, 1]))\n",
        "\n",
        "# 6. Confusion matrix heatmap\n",
        "cm = confusion_matrix(y_test, y_pred_best)\n",
        "plt.figure(figsize=(6, 4))\n",
        "sns.heatmap(cm, annot=True, fmt='d', cmap='Purples', cbar=False)\n",
        "plt.title(\" Confusion Matrix - Tuned RF\")\n",
        "plt.xlabel(\"Predicted Label\")\n",
        "plt.ylabel(\"True Label\")\n",
        "plt.show()\n"
      ]
    },
    {
      "cell_type": "code",
      "execution_count": null,
      "metadata": {
        "id": "BZ9HHrLba4zB"
      },
      "outputs": [],
      "source": [
        "#DEScision TREE\n",
        "#Classifier"
      ]
    },
    {
      "cell_type": "code",
      "source": [
        "from sklearn.tree import DecisionTreeClassifier\n",
        "from sklearn.metrics import classification_report, confusion_matrix, roc_auc_score\n",
        "\n",
        "# Initialize and train Decision Tree on SMOTE-balanced data\n",
        "dt_clf = DecisionTreeClassifier(random_state=42)\n",
        "dt_clf.fit(X_train_smote, y_train_smote)\n",
        "\n",
        "# Predict on test data\n",
        "y_pred_dt = dt_clf.predict(X_test)\n",
        "\n",
        "# Evaluation\n",
        "print(\" Classification Report (Decision Tree - Default):\")\n",
        "print(classification_report(y_test, y_pred_dt))\n",
        "print(\" Confusion Matrix:\")\n",
        "print(confusion_matrix(y_test, y_pred_dt))\n",
        "print(\" ROC AUC Score:\", roc_auc_score(y_test, dt_clf.predict_proba(X_test)[:, 1]))\n"
      ],
      "metadata": {
        "colab": {
          "base_uri": "https://localhost:8080/"
        },
        "id": "2oWbQvszLiED",
        "outputId": "011b92d1-843e-461e-f19e-88c69f0f9598"
      },
      "execution_count": null,
      "outputs": [
        {
          "output_type": "stream",
          "name": "stdout",
          "text": [
            " Classification Report (Decision Tree - Default):\n",
            "              precision    recall  f1-score   support\n",
            "\n",
            "           0       0.98      0.98      0.98       588\n",
            "           1       0.98      0.98      0.98       587\n",
            "\n",
            "    accuracy                           0.98      1175\n",
            "   macro avg       0.98      0.98      0.98      1175\n",
            "weighted avg       0.98      0.98      0.98      1175\n",
            "\n",
            " Confusion Matrix:\n",
            "[[576  12]\n",
            " [ 12 575]]\n",
            " ROC AUC Score: 0.9795744532906859\n"
          ]
        }
      ]
    },
    {
      "cell_type": "code",
      "source": [
        "from sklearn.model_selection import RandomizedSearchCV, StratifiedKFold\n",
        "\n",
        "# Hyperparameter space for Decision Tree\n",
        "dt_param_grid = {\n",
        "    'criterion': ['gini', 'entropy'],\n",
        "    'max_depth': [None, 5, 10, 20],\n",
        "    'min_samples_split': [2, 5, 10],\n",
        "    'min_samples_leaf': [1, 2, 4],\n",
        "    'max_features': [None, 'sqrt', 'log2']\n",
        "}\n",
        "\n",
        "# Stratified CV\n",
        "cv = StratifiedKFold(n_splits=5, shuffle=True, random_state=42)\n",
        "\n",
        "# Randomized Search setup\n",
        "dt_random = RandomizedSearchCV(\n",
        "    estimator=DecisionTreeClassifier(random_state=42),\n",
        "    param_distributions=dt_param_grid,\n",
        "    n_iter=20,\n",
        "    scoring='f1',\n",
        "    cv=cv,\n",
        "    n_jobs=-1,\n",
        "    random_state=42,\n",
        "    verbose=1\n",
        ")\n",
        "\n",
        "# Fit on SMOTE-balanced training data\n",
        "dt_random.fit(X_train_smote, y_train_smote)\n",
        "print(\" Best DT Parameters (RandomizedSearchCV):\", dt_random.best_params_)\n",
        "\n"
      ],
      "metadata": {
        "colab": {
          "base_uri": "https://localhost:8080/"
        },
        "id": "6IJVCWIsLpT-",
        "outputId": "f47a95d5-d6b7-4621-aa85-192ef8b45947"
      },
      "execution_count": null,
      "outputs": [
        {
          "output_type": "stream",
          "name": "stdout",
          "text": [
            "Fitting 5 folds for each of 20 candidates, totalling 100 fits\n",
            " Best DT Parameters (RandomizedSearchCV): {'min_samples_split': 5, 'min_samples_leaf': 1, 'max_features': None, 'max_depth': 20, 'criterion': 'entropy'}\n"
          ]
        }
      ]
    },
    {
      "cell_type": "code",
      "source": [
        "# Use the best model found\n",
        "best_dt_model = dt_random.best_estimator_\n",
        "\n",
        "# Predict on test data\n",
        "y_pred_best_dt = best_dt_model.predict(X_test)\n",
        "\n",
        "# Evaluation\n",
        "print(\"\\n Classification Report (Tuned DT):\")\n",
        "print(classification_report(y_test, y_pred_best_dt))\n",
        "print(\" F1 Score:\", f1_score(y_test, y_pred_best_dt))\n",
        "print(\" ROC AUC Score:\", roc_auc_score(y_test, best_dt_model.predict_proba(X_test)[:, 1]))\n",
        "\n",
        "# Confusion matrix\n",
        "import seaborn as sns\n",
        "import matplotlib.pyplot as plt\n",
        "cm_dt = confusion_matrix(y_test, y_pred_best_dt)\n",
        "plt.figure(figsize=(6, 4))\n",
        "sns.heatmap(cm_dt, annot=True, fmt='d', cmap='Greens', cbar=False)\n",
        "plt.title(\" Confusion Matrix - Tuned Decision Tree\")\n",
        "plt.xlabel(\"Predicted Label\")\n",
        "plt.ylabel(\"True Label\")\n",
        "plt.show()\n"
      ],
      "metadata": {
        "colab": {
          "base_uri": "https://localhost:8080/",
          "height": 636
        },
        "id": "Shm2cjg1LuOM",
        "outputId": "366417e4-76a2-4c56-fa2b-764e1828f17f"
      },
      "execution_count": null,
      "outputs": [
        {
          "output_type": "stream",
          "name": "stdout",
          "text": [
            "\n",
            " Classification Report (Tuned DT):\n",
            "              precision    recall  f1-score   support\n",
            "\n",
            "           0       0.98      0.98      0.98       588\n",
            "           1       0.98      0.98      0.98       587\n",
            "\n",
            "    accuracy                           0.98      1175\n",
            "   macro avg       0.98      0.98      0.98      1175\n",
            "weighted avg       0.98      0.98      0.98      1175\n",
            "\n",
            " F1 Score: 0.9794871794871794\n",
            " ROC AUC Score: 0.9795715560500179\n"
          ]
        },
        {
          "output_type": "display_data",
          "data": {
            "text/plain": [
              "<Figure size 600x400 with 1 Axes>"
            ],
            "image/png": "[encoded data removed]"
          },
          "metadata": {}
        }
      ]
    },
    {
      "cell_type": "code",
      "source": [
        "##KNN\n",
        "#Classifier"
      ],
      "metadata": {
        "id": "TczkLskGMWb-"
      },
      "execution_count": null,
      "outputs": []
    },
    {
      "cell_type": "code",
      "source": [
        "from sklearn.neighbors import KNeighborsClassifier\n",
        "from sklearn.metrics import classification_report, confusion_matrix, roc_auc_score\n",
        "\n",
        "# Initialize and train KNN (default params)\n",
        "knn_clf = KNeighborsClassifier()\n",
        "knn_clf.fit(X_train_smote, y_train_smote)\n",
        "\n",
        "# Predict\n",
        "y_pred_knn = knn_clf.predict(X_test)\n",
        "\n",
        "# Evaluation\n",
        "print(\" Classification Report (KNN - Default):\")\n",
        "print(classification_report(y_test, y_pred_knn))\n",
        "\n",
        "print(\" Confusion Matrix:\")\n",
        "print(confusion_matrix(y_test, y_pred_knn))\n",
        "\n",
        "print(\" ROC AUC Score:\", roc_auc_score(y_test, knn_clf.predict_proba(X_test)[:, 1]))\n"
      ],
      "metadata": {
        "colab": {
          "base_uri": "https://localhost:8080/"
        },
        "id": "Rp9VOmZ1Lx_2",
        "outputId": "71214ea9-b9ff-4fa5-f098-248abce47982"
      },
      "execution_count": null,
      "outputs": [
        {
          "output_type": "stream",
          "name": "stdout",
          "text": [
            " Classification Report (KNN - Default):\n",
            "              precision    recall  f1-score   support\n",
            "\n",
            "           0       0.88      0.88      0.88       588\n",
            "           1       0.88      0.88      0.88       587\n",
            "\n",
            "    accuracy                           0.88      1175\n",
            "   macro avg       0.88      0.88      0.88      1175\n",
            "weighted avg       0.88      0.88      0.88      1175\n",
            "\n",
            " Confusion Matrix:\n",
            "[[516  72]\n",
            " [ 72 515]]\n",
            " ROC AUC Score: 0.9476207859634483\n"
          ]
        }
      ]
    },
    {
      "cell_type": "code",
      "source": [
        "from sklearn.model_selection import RandomizedSearchCV\n",
        "\n",
        "# Define param grid\n",
        "knn_param_grid = {\n",
        "    'n_neighbors': list(range(3, 16, 2)),\n",
        "    'weights': ['uniform', 'distance'],\n",
        "    'metric': ['euclidean', 'manhattan']\n",
        "}\n",
        "\n",
        "# RandomizedSearchCV\n",
        "knn_random = RandomizedSearchCV(\n",
        "    estimator=KNeighborsClassifier(),\n",
        "    param_distributions=knn_param_grid,\n",
        "    n_iter=20,\n",
        "    scoring='f1',\n",
        "    cv=cv,\n",
        "    n_jobs=-1,\n",
        "    random_state=42,\n",
        "    verbose=1\n",
        ")\n",
        "\n",
        "knn_random.fit(X_train_smote, y_train_smote)\n",
        "print(\" Best KNN Parameters (RandomizedSearchCV):\", knn_random.best_params_)\n"
      ],
      "metadata": {
        "colab": {
          "base_uri": "https://localhost:8080/"
        },
        "id": "bJ1xu8IAMTMB",
        "outputId": "34ca6a87-1c8e-45c2-e617-00a7aca41770"
      },
      "execution_count": null,
      "outputs": [
        {
          "output_type": "stream",
          "name": "stdout",
          "text": [
            "Fitting 5 folds for each of 20 candidates, totalling 100 fits\n",
            " Best KNN Parameters (RandomizedSearchCV): {'weights': 'distance', 'n_neighbors': 5, 'metric': 'manhattan'}\n"
          ]
        }
      ]
    },
    {
      "cell_type": "code",
      "source": [
        "from sklearn.metrics import f1_score\n",
        "import seaborn as sns\n",
        "import matplotlib.pyplot as plt\n",
        "\n",
        "# Use the best model found\n",
        "best_knn_model = knn_random.best_estimator_\n",
        "\n",
        "# Predict\n",
        "y_pred = best_knn_model.predict(X_test)\n",
        "\n",
        "# Print metrics\n",
        "print(\" Classification Report (Tuned KNN):\\n\", classification_report(y_test, y_pred))\n",
        "print(\" F1 Score:\", f1_score(y_test, y_pred))\n",
        "print(\" ROC AUC Score:\", roc_auc_score(y_test, best_knn_model.predict_proba(X_test)[:, 1]))\n",
        "\n",
        "# Confusion Matrix\n",
        "cm = confusion_matrix(y_test, y_pred)\n",
        "plt.figure(figsize=(6, 4))\n",
        "sns.heatmap(cm, annot=True, fmt='d', cmap='YlGnBu', cbar=False)\n",
        "plt.title(\" Confusion Matrix for Tuned KNN\")\n",
        "plt.xlabel(\"Predicted\")\n",
        "plt.ylabel(\"True\")\n",
        "plt.show()\n"
      ],
      "metadata": {
        "colab": {
          "base_uri": "https://localhost:8080/",
          "height": 618
        },
        "id": "4adXTfzyMmMk",
        "outputId": "b00ebdc1-f48c-4265-c38a-472d415e32b6"
      },
      "execution_count": null,
      "outputs": [
        {
          "output_type": "stream",
          "name": "stdout",
          "text": [
            " Classification Report (Tuned KNN):\n",
            "               precision    recall  f1-score   support\n",
            "\n",
            "           0       0.90      0.88      0.89       588\n",
            "           1       0.89      0.90      0.89       587\n",
            "\n",
            "    accuracy                           0.89      1175\n",
            "   macro avg       0.89      0.89      0.89      1175\n",
            "weighted avg       0.89      0.89      0.89      1175\n",
            "\n",
            " F1 Score: 0.8926458157227388\n",
            " ROC AUC Score: 0.9604381786786265\n"
          ]
        },
        {
          "output_type": "display_data",
          "data": {
            "text/plain": [
              "<Figure size 600x400 with 1 Axes>"
            ],
            "image/png": "[encoded data removed]"
          },
          "metadata": {}
        }
      ]
    },
    {
      "cell_type": "code",
      "source": [
        "#Logistic Regression"
      ],
      "metadata": {
        "id": "DrO4XA95MqH-"
      },
      "execution_count": null,
      "outputs": []
    },
    {
      "cell_type": "code",
      "source": [
        "from sklearn.linear_model import LogisticRegression\n",
        "from sklearn.metrics import classification_report, confusion_matrix, roc_auc_score\n",
        "\n",
        "#  Initialize and train Logistic Regression on SMOTE data\n",
        "lr_clf = LogisticRegression(max_iter=1000, random_state=42)\n",
        "lr_clf.fit(X_train_smote, y_train_smote)\n",
        "\n",
        "#  Predict on test data\n",
        "y_pred_lr = lr_clf.predict(X_test)\n",
        "\n",
        "#  Evaluate\n",
        "print(\" Classification Report (LR - Default):\")\n",
        "print(classification_report(y_test, y_pred_lr))\n",
        "\n",
        "print(\" Confusion Matrix:\")\n",
        "print(confusion_matrix(y_test, y_pred_lr))\n",
        "\n",
        "print(\" ROC AUC Score:\", roc_auc_score(y_test, lr_clf.predict_proba(X_test)[:, 1]))\n"
      ],
      "metadata": {
        "colab": {
          "base_uri": "https://localhost:8080/"
        },
        "id": "fcaSAZx1DEEy",
        "outputId": "62c586aa-601d-46f6-a550-300c5b798447"
      },
      "execution_count": null,
      "outputs": [
        {
          "output_type": "stream",
          "name": "stdout",
          "text": [
            " Classification Report (LR - Default):\n",
            "              precision    recall  f1-score   support\n",
            "\n",
            "           0       0.64      0.63      0.64       588\n",
            "           1       0.64      0.65      0.64       587\n",
            "\n",
            "    accuracy                           0.64      1175\n",
            "   macro avg       0.64      0.64      0.64      1175\n",
            "weighted avg       0.64      0.64      0.64      1175\n",
            "\n",
            " Confusion Matrix:\n",
            "[[369 219]\n",
            " [205 382]]\n",
            " ROC AUC Score: 0.6951407479516508\n"
          ]
        }
      ]
    },
    {
      "cell_type": "code",
      "source": [
        "from sklearn.model_selection import RandomizedSearchCV, StratifiedKFold\n",
        "\n",
        "#  Logistic Regression hyperparameter grid\n",
        "lr_param_grid = {\n",
        "    'C': [0.01, 0.1, 1, 10, 100],\n",
        "    'penalty': ['l1', 'l2'],\n",
        "    'solver': ['liblinear', 'saga']\n",
        "}\n",
        "\n",
        "#  Stratified CV\n",
        "cv = StratifiedKFold(n_splits=5, shuffle=True, random_state=42)\n",
        "\n",
        "#  Randomized Search\n",
        "lr_random = RandomizedSearchCV(\n",
        "    estimator=LogisticRegression(max_iter=1000, random_state=42),\n",
        "    param_distributions=lr_param_grid,\n",
        "    n_iter=10,\n",
        "    scoring='f1',\n",
        "    cv=cv,\n",
        "    n_jobs=-1,\n",
        "    verbose=1,\n",
        "    random_state=42\n",
        ")\n",
        "\n",
        "lr_random.fit(X_train_smote, y_train_smote)\n",
        "print(\" Best LR Parameters (RandomizedSearchCV):\", lr_random.best_params_)\n"
      ],
      "metadata": {
        "colab": {
          "base_uri": "https://localhost:8080/"
        },
        "id": "1VMwI7IgDEqW",
        "outputId": "6ef777dc-c495-4c38-eac1-a339bc1152ec"
      },
      "execution_count": null,
      "outputs": [
        {
          "output_type": "stream",
          "name": "stdout",
          "text": [
            "Fitting 5 folds for each of 10 candidates, totalling 50 fits\n",
            " Best LR Parameters (RandomizedSearchCV): {'solver': 'saga', 'penalty': 'l1', 'C': 0.1}\n"
          ]
        }
      ]
    },
    {
      "cell_type": "code",
      "source": [
        "from sklearn.metrics import f1_score\n",
        "import seaborn as sns\n",
        "import matplotlib.pyplot as plt\n",
        "\n",
        "#  Best model\n",
        "best_lr_model = lr_random.best_estimator_\n",
        "\n",
        "#  Predict\n",
        "y_pred_best_lr = best_lr_model.predict(X_test)\n",
        "\n",
        "#  Metrics\n",
        "print(\" Classification Report (Tuned LR):\\n\", classification_report(y_test, y_pred_best_lr))\n",
        "print(\" F1 Score:\", f1_score(y_test, y_pred_best_lr))\n",
        "\n",
        "#  Confusion Matrix\n",
        "cm = confusion_matrix(y_test, y_pred_best_lr)\n",
        "plt.figure(figsize=(6, 4))\n",
        "sns.heatmap(cm, annot=True, fmt='d', cmap='Blues', cbar=False)\n",
        "plt.title(\" Confusion Matrix for Tuned Logistic Regression\")\n",
        "plt.xlabel(\"Predicted Label\")\n",
        "plt.ylabel(\"True Label\")\n",
        "plt.show()\n"
      ],
      "metadata": {
        "colab": {
          "base_uri": "https://localhost:8080/",
          "height": 601
        },
        "id": "apWlpF35DH2O",
        "outputId": "59d528c3-63ff-4619-d64d-217cc32c63dd"
      },
      "execution_count": null,
      "outputs": [
        {
          "output_type": "stream",
          "name": "stdout",
          "text": [
            " Classification Report (Tuned LR):\n",
            "               precision    recall  f1-score   support\n",
            "\n",
            "           0       0.64      0.64      0.64       588\n",
            "           1       0.64      0.65      0.64       587\n",
            "\n",
            "    accuracy                           0.64      1175\n",
            "   macro avg       0.64      0.64      0.64      1175\n",
            "weighted avg       0.64      0.64      0.64      1175\n",
            "\n",
            " F1 Score: 0.6434634974533107\n"
          ]
        },
        {
          "output_type": "display_data",
          "data": {
            "text/plain": [
              "<Figure size 600x400 with 1 Axes>"
            ],
            "image/png": "[encoded data removed]"
          },
          "metadata": {}
        }
      ]
    },
    {
      "cell_type": "markdown",
      "source": [
        "Since no much change in accuracy with normal lr ,lets add polynomialfeatures"
      ],
      "metadata": {
        "id": "-JcXMOXbEVJv"
      }
    },
    {
      "cell_type": "code",
      "source": [
        "from sklearn.preprocessing import PolynomialFeatures\n",
        "\n",
        "# Generate polynomial features (degree=2 is usually a good start)\n",
        "poly = PolynomialFeatures(degree=2, include_bias=False)\n",
        "X_train_poly = poly.fit_transform(X_train_smote)\n",
        "X_test_poly = poly.transform(X_test)\n"
      ],
      "metadata": {
        "id": "JXMFXmgDDxPC"
      },
      "execution_count": null,
      "outputs": []
    },
    {
      "cell_type": "code",
      "source": [
        "from sklearn.linear_model import LogisticRegression\n",
        "from sklearn.metrics import classification_report, confusion_matrix, roc_auc_score\n",
        "\n",
        "# Train\n",
        "logreg_poly = LogisticRegression(max_iter=1000, random_state=42)\n",
        "logreg_poly.fit(X_train_poly, y_train_smote)\n",
        "\n",
        "# Predict\n",
        "y_pred_poly = logreg_poly.predict(X_test_poly)\n",
        "\n",
        "# Evaluation\n",
        "print(\" Classification Report (LogReg + Poly):\")\n",
        "print(classification_report(y_test, y_pred_poly))\n",
        "\n",
        "print(\" ROC AUC Score:\", roc_auc_score(y_test, logreg_poly.predict_proba(X_test_poly)[:, 1]))\n",
        "\n",
        "print(\" Confusion Matrix:\")\n",
        "from sklearn.metrics import ConfusionMatrixDisplay\n",
        "ConfusionMatrixDisplay.from_predictions(y_test, y_pred_poly, cmap='Purples')\n"
      ],
      "metadata": {
        "colab": {
          "base_uri": "https://localhost:8080/",
          "height": 675
        },
        "id": "sTA4_3l-Edmi",
        "outputId": "8587f88f-38e6-4c87-f312-be6b1fa1cf6a"
      },
      "execution_count": null,
      "outputs": [
        {
          "output_type": "stream",
          "name": "stdout",
          "text": [
            " Classification Report (LogReg + Poly):\n",
            "              precision    recall  f1-score   support\n",
            "\n",
            "           0       0.78      0.76      0.77       588\n",
            "           1       0.77      0.79      0.78       587\n",
            "\n",
            "    accuracy                           0.77      1175\n",
            "   macro avg       0.77      0.77      0.77      1175\n",
            "weighted avg       0.77      0.77      0.77      1175\n",
            "\n",
            " ROC AUC Score: 0.8487466536870283\n",
            " Confusion Matrix:\n"
          ]
        },
        {
          "output_type": "execute_result",
          "data": {
            "text/plain": [
              "<sklearn.metrics._plot.confusion_matrix.ConfusionMatrixDisplay at 0x7af64d18b990>"
            ]
          },
          "metadata": {},
          "execution_count": 21
        },
        {
          "output_type": "display_data",
          "data": {
            "text/plain": [
              "<Figure size 640x480 with 2 Axes>"
            ],
            "image/png": "[encoded data removed]"
          },
          "metadata": {}
        }
      ]
    },
    {
      "cell_type": "code",
      "source": [
        "from sklearn.model_selection import GridSearchCV, StratifiedKFold\n",
        "from sklearn.linear_model import LogisticRegression\n",
        "\n",
        "# Set up hyperparameter grid\n",
        "param_grid_lr = {\n",
        "    'C': [0.01, 0.1, 1, 10],\n",
        "    'penalty': ['l2'],  # 'l1' requires solver='liblinear', but poly features often need 'lbfgs'\n",
        "    'solver': ['lbfgs']\n",
        "}\n",
        "\n",
        "# Cross-validation\n",
        "cv = StratifiedKFold(n_splits=5, shuffle=True, random_state=42)\n",
        "\n",
        "# Grid Search setup\n",
        "logreg_grid = GridSearchCV(\n",
        "    LogisticRegression(max_iter=1000, random_state=42),\n",
        "    param_grid=param_grid_lr,\n",
        "    scoring='f1',\n",
        "    cv=cv,\n",
        "    n_jobs=-1,\n",
        "    verbose=1\n",
        ")\n",
        "\n",
        "# Fit on polynomial features\n",
        "logreg_grid.fit(X_train_poly, y_train_smote)\n",
        "\n",
        "# Best model\n",
        "best_logreg_poly = logreg_grid.best_estimator_\n",
        "\n",
        "print(\" Best Parameters (Logistic Regression with Poly):\", logreg_grid.best_params_)\n"
      ],
      "metadata": {
        "colab": {
          "base_uri": "https://localhost:8080/"
        },
        "id": "8kJbZp8WEfui",
        "outputId": "a74554a6-9efb-499c-8126-c4d3f2bb5b7a"
      },
      "execution_count": null,
      "outputs": [
        {
          "output_type": "stream",
          "name": "stdout",
          "text": [
            "Fitting 5 folds for each of 4 candidates, totalling 20 fits\n",
            " Best Parameters (Logistic Regression with Poly): {'C': 10, 'penalty': 'l2', 'solver': 'lbfgs'}\n"
          ]
        },
        {
          "output_type": "stream",
          "name": "stderr",
          "text": [
            "/usr/local/lib/python3.11/dist-packages/sklearn/linear_model/_logistic.py:465: ConvergenceWarning: lbfgs failed to converge (status=1):\n",
            "STOP: TOTAL NO. OF ITERATIONS REACHED LIMIT.\n",
            "\n",
            "Increase the number of iterations (max_iter) or scale the data as shown in:\n",
            "    https://scikit-learn.org/stable/modules/preprocessing.html\n",
            "Please also refer to the documentation for alternative solver options:\n",
            "    https://scikit-learn.org/stable/modules/linear_model.html#logistic-regression\n",
            "  n_iter_i = _check_optimize_result(\n"
          ]
        }
      ]
    },
    {
      "cell_type": "code",
      "source": [
        "from sklearn.metrics import classification_report, confusion_matrix, roc_auc_score\n",
        "\n",
        "# Predict\n",
        "y_pred_poly_tuned = best_logreg_poly.predict(X_test_poly)\n",
        "\n",
        "# Evaluation\n",
        "print(\" Classification Report (Tuned LogReg + Poly):\")\n",
        "print(classification_report(y_test, y_pred_poly_tuned))\n",
        "\n",
        "print(\" ROC AUC Score:\", roc_auc_score(y_test, best_logreg_poly.predict_proba(X_test_poly)[:, 1]))\n",
        "\n",
        "print(\" Confusion Matrix:\")\n",
        "from sklearn.metrics import ConfusionMatrixDisplay\n",
        "ConfusionMatrixDisplay.from_predictions(y_test, y_pred_poly_tuned, cmap='Purples')\n"
      ],
      "metadata": {
        "colab": {
          "base_uri": "https://localhost:8080/",
          "height": 675
        },
        "id": "e0MM5gyrEseq",
        "outputId": "b126fd6e-0931-4818-c6d2-cf641de3cdb6"
      },
      "execution_count": null,
      "outputs": [
        {
          "output_type": "stream",
          "name": "stdout",
          "text": [
            " Classification Report (Tuned LogReg + Poly):\n",
            "              precision    recall  f1-score   support\n",
            "\n",
            "           0       0.79      0.77      0.78       588\n",
            "           1       0.77      0.80      0.79       587\n",
            "\n",
            "    accuracy                           0.78      1175\n",
            "   macro avg       0.78      0.78      0.78      1175\n",
            "weighted avg       0.78      0.78      0.78      1175\n",
            "\n",
            " ROC AUC Score: 0.8540312206654382\n",
            " Confusion Matrix:\n"
          ]
        },
        {
          "output_type": "execute_result",
          "data": {
            "text/plain": [
              "<sklearn.metrics._plot.confusion_matrix.ConfusionMatrixDisplay at 0x7af64d296a50>"
            ]
          },
          "metadata": {},
          "execution_count": 23
        },
        {
          "output_type": "display_data",
          "data": {
            "text/plain": [
              "<Figure size 640x480 with 2 Axes>"
            ],
            "image/png": "[encoded data removed]"
          },
          "metadata": {}
        }
      ]
    },
    {
      "cell_type": "code",
      "source": [
        "#Naive Bayes Classifier method"
      ],
      "metadata": {
        "id": "9a9-WPNmE3NX"
      },
      "execution_count": null,
      "outputs": []
    },
    {
      "cell_type": "code",
      "source": [
        "from sklearn.naive_bayes import GaussianNB\n",
        "from sklearn.metrics import classification_report, confusion_matrix, roc_auc_score\n",
        "\n",
        "#  Initialize and train the Gaussian Naive Bayes model\n",
        "nb_clf = GaussianNB()\n",
        "nb_clf.fit(X_train_smote, y_train_smote)\n",
        "\n",
        "#  Predict on test set\n",
        "y_pred_nb = nb_clf.predict(X_test)\n",
        "\n",
        "#  Evaluation\n",
        "print(\" Classification Report (Naive Bayes):\")\n",
        "print(classification_report(y_test, y_pred_nb))\n",
        "\n",
        "print(\" Confusion Matrix:\")\n",
        "print(confusion_matrix(y_test, y_pred_nb))\n",
        "\n",
        "print(\" ROC AUC Score:\", roc_auc_score(y_test, nb_clf.predict_proba(X_test)[:, 1]))\n"
      ],
      "metadata": {
        "colab": {
          "base_uri": "https://localhost:8080/"
        },
        "id": "etukIoIHFuIF",
        "outputId": "783f827f-65b7-42df-cbd5-ce5f0e14d42a"
      },
      "execution_count": null,
      "outputs": [
        {
          "output_type": "stream",
          "name": "stdout",
          "text": [
            " Classification Report (Naive Bayes):\n",
            "              precision    recall  f1-score   support\n",
            "\n",
            "           0       0.53      0.90      0.67       588\n",
            "           1       0.67      0.21      0.32       587\n",
            "\n",
            "    accuracy                           0.55      1175\n",
            "   macro avg       0.60      0.55      0.49      1175\n",
            "weighted avg       0.60      0.55      0.49      1175\n",
            "\n",
            " Confusion Matrix:\n",
            "[[528  60]\n",
            " [464 123]]\n",
            " ROC AUC Score: 0.6326849308718376\n"
          ]
        }
      ]
    },
    {
      "cell_type": "code",
      "source": [
        "from sklearn.model_selection import GridSearchCV\n",
        "from sklearn.naive_bayes import GaussianNB\n",
        "\n",
        "#  Define parameter grid\n",
        "param_grid_nb = {\n",
        "    'var_smoothing': [1e-9, 1e-8, 1e-7, 1e-6, 1e-5]\n",
        "}\n",
        "\n",
        "#  Setup GridSearchCV\n",
        "nb_grid = GridSearchCV(\n",
        "    estimator=GaussianNB(),\n",
        "    param_grid=param_grid_nb,\n",
        "    scoring='f1',\n",
        "    cv=StratifiedKFold(n_splits=5, shuffle=True, random_state=42),\n",
        "    verbose=1,\n",
        "    n_jobs=-1\n",
        ")\n",
        "\n",
        "#  Fit the model\n",
        "nb_grid.fit(X_train_smote, y_train_smote)\n",
        "\n",
        "#  Best params\n",
        "print(\" Best Parameters (Naive Bayes):\", nb_grid.best_params_)\n"
      ],
      "metadata": {
        "colab": {
          "base_uri": "https://localhost:8080/"
        },
        "id": "oBXu_ZsmFvXV",
        "outputId": "bf245a0b-a71a-4c6a-aaac-ee17a6cc865e"
      },
      "execution_count": null,
      "outputs": [
        {
          "output_type": "stream",
          "name": "stdout",
          "text": [
            "Fitting 5 folds for each of 5 candidates, totalling 25 fits\n",
            " Best Parameters (Naive Bayes): {'var_smoothing': 1e-09}\n"
          ]
        }
      ]
    },
    {
      "cell_type": "code",
      "source": [
        "from sklearn.metrics import classification_report, confusion_matrix, roc_auc_score\n",
        "\n",
        "#  Use the best model from GridSearchCV\n",
        "best_nb_model = nb_grid.best_estimator_\n",
        "\n",
        "#  Predict on test set\n",
        "y_pred_nb_tuned = best_nb_model.predict(X_test)\n",
        "\n",
        "#  Evaluation\n",
        "print(\" Classification Report (Tuned Naive Bayes):\")\n",
        "print(classification_report(y_test, y_pred_nb_tuned))\n",
        "\n",
        "print(\" Confusion Matrix:\")\n",
        "print(confusion_matrix(y_test, y_pred_nb_tuned))\n",
        "\n",
        "print(\" ROC AUC Score:\", roc_auc_score(y_test, best_nb_model.predict_proba(X_test)[:, 1]))\n"
      ],
      "metadata": {
        "colab": {
          "base_uri": "https://localhost:8080/"
        },
        "id": "s4rD25HEF4z2",
        "outputId": "1e5ca91d-2636-4f02-e8b6-371a768e500c"
      },
      "execution_count": null,
      "outputs": [
        {
          "output_type": "stream",
          "name": "stdout",
          "text": [
            " Classification Report (Tuned Naive Bayes):\n",
            "              precision    recall  f1-score   support\n",
            "\n",
            "           0       0.53      0.90      0.67       588\n",
            "           1       0.67      0.21      0.32       587\n",
            "\n",
            "    accuracy                           0.55      1175\n",
            "   macro avg       0.60      0.55      0.49      1175\n",
            "weighted avg       0.60      0.55      0.49      1175\n",
            "\n",
            " Confusion Matrix:\n",
            "[[528  60]\n",
            " [464 123]]\n",
            " ROC AUC Score: 0.6326849308718376\n"
          ]
        }
      ]
    },
    {
      "cell_type": "markdown",
      "source": [
        "Since accuracy is less and not improved with hpt lets use multinomial naive bayes\n"
      ],
      "metadata": {
        "id": "ax92M3cWGjhE"
      }
    },
    {
      "cell_type": "code",
      "source": [
        "from sklearn.preprocessing import KBinsDiscretizer\n",
        "\n",
        "# Discretize to convert continuous features to integer bins\n",
        "kbins = KBinsDiscretizer(n_bins=10, encode='ordinal', strategy='quantile')\n",
        "\n",
        "# Fit on training data and transform both train/test\n",
        "X_train_binned = kbins.fit_transform(X_train_smote)\n",
        "X_test_binned = kbins.transform(X_test)\n"
      ],
      "metadata": {
        "colab": {
          "base_uri": "https://localhost:8080/"
        },
        "id": "rrbKy0KiGTHN",
        "outputId": "f0018910-32ce-45b1-cbbb-a7fc8cf07d39"
      },
      "execution_count": null,
      "outputs": [
        {
          "output_type": "stream",
          "name": "stderr",
          "text": [
            "/usr/local/lib/python3.11/dist-packages/sklearn/preprocessing/_discretization.py:306: UserWarning: Bins whose width are too small (i.e., <= 1e-8) in feature 1 are removed. Consider decreasing the number of bins.\n",
            "  warnings.warn(\n"
          ]
        }
      ]
    },
    {
      "cell_type": "code",
      "source": [
        "from sklearn.naive_bayes import MultinomialNB\n",
        "from sklearn.metrics import classification_report, confusion_matrix, roc_auc_score\n",
        "\n",
        "# Train Multinomial Naive Bayes\n",
        "nb_clf = MultinomialNB()\n",
        "nb_clf.fit(X_train_binned, y_train_smote)\n",
        "\n",
        "# Predict on test data\n",
        "y_pred_nb = nb_clf.predict(X_test_binned)\n",
        "\n",
        "# Evaluate\n",
        "print(\" Classification Report (MultinomialNB):\")\n",
        "print(classification_report(y_test, y_pred_nb))\n",
        "\n",
        "print(\" Confusion Matrix:\")\n",
        "print(confusion_matrix(y_test, y_pred_nb))\n",
        "\n",
        "print(\" ROC AUC Score:\", roc_auc_score(y_test, nb_clf.predict_proba(X_test_binned)[:, 1]))\n"
      ],
      "metadata": {
        "colab": {
          "base_uri": "https://localhost:8080/"
        },
        "id": "kjkqMxJbHAGR",
        "outputId": "fcc4f36f-c1a2-4fb7-d168-0e5fc14287d5"
      },
      "execution_count": null,
      "outputs": [
        {
          "output_type": "stream",
          "name": "stdout",
          "text": [
            " Classification Report (MultinomialNB):\n",
            "              precision    recall  f1-score   support\n",
            "\n",
            "           0       0.60      0.56      0.58       588\n",
            "           1       0.59      0.63      0.61       587\n",
            "\n",
            "    accuracy                           0.59      1175\n",
            "   macro avg       0.59      0.59      0.59      1175\n",
            "weighted avg       0.59      0.59      0.59      1175\n",
            "\n",
            " Confusion Matrix:\n",
            "[[328 260]\n",
            " [217 370]]\n",
            " ROC AUC Score: 0.6430280800565542\n"
          ]
        }
      ]
    },
    {
      "cell_type": "code",
      "source": [
        "from sklearn.model_selection import GridSearchCV\n",
        "from sklearn.naive_bayes import MultinomialNB\n",
        "\n",
        "# Define parameter grid for alpha (smoothing)\n",
        "param_grid_nb = {\n",
        "    'alpha': [0.001, 0.01, 0.1, 1.0, 5.0, 10.0]\n",
        "}\n",
        "\n",
        "# Grid search\n",
        "nb_grid = GridSearchCV(\n",
        "    estimator=MultinomialNB(),\n",
        "    param_grid=param_grid_nb,\n",
        "    scoring='f1',\n",
        "    cv=5,\n",
        "    n_jobs=-1,\n",
        "    verbose=1\n",
        ")\n",
        "\n",
        "nb_grid.fit(X_train_binned, y_train_smote)\n",
        "\n",
        "# Best parameters\n",
        "print(\" Best Parameters for MultinomialNB:\", nb_grid.best_params_)\n"
      ],
      "metadata": {
        "colab": {
          "base_uri": "https://localhost:8080/"
        },
        "id": "QUkQK3yGHOrg",
        "outputId": "64977628-c06e-4fa4-b651-22f82bf59481"
      },
      "execution_count": null,
      "outputs": [
        {
          "output_type": "stream",
          "name": "stdout",
          "text": [
            "Fitting 5 folds for each of 6 candidates, totalling 30 fits\n",
            " Best Parameters for MultinomialNB: {'alpha': 0.001}\n"
          ]
        }
      ]
    },
    {
      "cell_type": "code",
      "source": [
        "# Use best estimator\n",
        "best_nb = nb_grid.best_estimator_\n",
        "\n",
        "# Predict\n",
        "y_pred_best_nb = best_nb.predict(X_test_binned)\n",
        "\n",
        "# Evaluate\n",
        "from sklearn.metrics import classification_report, confusion_matrix, roc_auc_score\n",
        "\n",
        "print(\" Classification Report (Tuned MultinomialNB):\")\n",
        "print(classification_report(y_test, y_pred_best_nb))\n",
        "\n",
        "print(\" Confusion Matrix:\")\n",
        "print(confusion_matrix(y_test, y_pred_best_nb))\n",
        "\n",
        "print(\" ROC AUC Score:\", roc_auc_score(y_test, best_nb.predict_proba(X_test_binned)[:, 1]))\n"
      ],
      "metadata": {
        "colab": {
          "base_uri": "https://localhost:8080/"
        },
        "id": "I_s4ZrGRHXQD",
        "outputId": "33fab790-9edf-4a46-8b33-7e943bf3590d"
      },
      "execution_count": null,
      "outputs": [
        {
          "output_type": "stream",
          "name": "stdout",
          "text": [
            " Classification Report (Tuned MultinomialNB):\n",
            "              precision    recall  f1-score   support\n",
            "\n",
            "           0       0.60      0.56      0.58       588\n",
            "           1       0.59      0.63      0.61       587\n",
            "\n",
            "    accuracy                           0.59      1175\n",
            "   macro avg       0.59      0.59      0.59      1175\n",
            "weighted avg       0.59      0.59      0.59      1175\n",
            "\n",
            " Confusion Matrix:\n",
            "[[328 260]\n",
            " [217 370]]\n",
            " ROC AUC Score: 0.6430222855752181\n"
          ]
        }
      ]
    },
    {
      "cell_type": "code",
      "source": [
        "#XG-Boost Method"
      ],
      "metadata": {
        "id": "MppEbWXxHbiT"
      },
      "execution_count": null,
      "outputs": []
    },
    {
      "cell_type": "code",
      "source": [
        "from xgboost import XGBClassifier\n",
        "from sklearn.metrics import classification_report, confusion_matrix, roc_auc_score\n",
        "\n",
        "# Initialize and train XGBoost\n",
        "xgb_clf = XGBClassifier(random_state=42, use_label_encoder=False, eval_metric='logloss')\n",
        "xgb_clf.fit(X_train_smote, y_train_smote)\n",
        "\n",
        "# Predict\n",
        "y_pred_xgb = xgb_clf.predict(X_test)\n",
        "\n",
        "# Evaluation\n",
        "print(\" Classification Report (XGBoost - Default):\")\n",
        "print(classification_report(y_test, y_pred_xgb))\n",
        "\n",
        "print(\" Confusion Matrix:\")\n",
        "print(confusion_matrix(y_test, y_pred_xgb))\n",
        "\n",
        "print(\" ROC AUC Score:\", roc_auc_score(y_test, xgb_clf.predict_proba(X_test)[:, 1]))\n"
      ],
      "metadata": {
        "colab": {
          "base_uri": "https://localhost:8080/"
        },
        "id": "WfmRowELI0zt",
        "outputId": "f0c36e75-13d4-495e-b399-9606490a0cc8"
      },
      "execution_count": null,
      "outputs": [
        {
          "output_type": "stream",
          "name": "stderr",
          "text": [
            "/usr/local/lib/python3.11/dist-packages/xgboost/core.py:158: UserWarning: [12:54:10] WARNING: /workspace/src/learner.cc:740: \n",
            "Parameters: { \"use_label_encoder\" } are not used.\n",
            "\n",
            "  warnings.warn(smsg, UserWarning)\n"
          ]
        },
        {
          "output_type": "stream",
          "name": "stdout",
          "text": [
            " Classification Report (XGBoost - Default):\n",
            "              precision    recall  f1-score   support\n",
            "\n",
            "           0       1.00      0.99      0.99       588\n",
            "           1       0.99      1.00      0.99       587\n",
            "\n",
            "    accuracy                           0.99      1175\n",
            "   macro avg       0.99      0.99      0.99      1175\n",
            "weighted avg       0.99      0.99      0.99      1175\n",
            "\n",
            " Confusion Matrix:\n",
            "[[583   5]\n",
            " [  2 585]]\n",
            " ROC AUC Score: 0.9997015842111971\n"
          ]
        }
      ]
    },
    {
      "cell_type": "code",
      "source": [
        "from sklearn.model_selection import RandomizedSearchCV, StratifiedKFold\n",
        "\n",
        "# Param grid for tuning\n",
        "xgb_param_grid = {\n",
        "    'n_estimators': [100, 200, 300],\n",
        "    'max_depth': [3, 5, 7],\n",
        "    'learning_rate': [0.01, 0.1, 0.2],\n",
        "    'subsample': [0.6, 0.8, 1.0],\n",
        "    'colsample_bytree': [0.6, 0.8, 1.0],\n",
        "    'gamma': [0, 1, 5]\n",
        "}\n",
        "\n",
        "cv = StratifiedKFold(n_splits=5, shuffle=True, random_state=42)\n",
        "\n",
        "xgb_random = RandomizedSearchCV(\n",
        "    estimator=XGBClassifier(random_state=42, use_label_encoder=False, eval_metric='logloss'),\n",
        "    param_distributions=xgb_param_grid,\n",
        "    n_iter=20,\n",
        "    scoring='f1',\n",
        "    n_jobs=-1,\n",
        "    cv=cv,\n",
        "    verbose=1,\n",
        "    random_state=42\n",
        ")\n",
        "\n",
        "xgb_random.fit(X_train_smote, y_train_smote)\n",
        "\n",
        "print(\" Best XGBoost Parameters:\", xgb_random.best_params_)\n"
      ],
      "metadata": {
        "colab": {
          "base_uri": "https://localhost:8080/"
        },
        "id": "OUuNKLc9I2b0",
        "outputId": "85293506-b061-4234-c7b5-c6b22a184951"
      },
      "execution_count": null,
      "outputs": [
        {
          "output_type": "stream",
          "name": "stdout",
          "text": [
            "Fitting 5 folds for each of 20 candidates, totalling 100 fits\n"
          ]
        },
        {
          "output_type": "stream",
          "name": "stderr",
          "text": [
            "/usr/local/lib/python3.11/dist-packages/xgboost/core.py:158: UserWarning: [12:55:19] WARNING: /workspace/src/learner.cc:740: \n",
            "Parameters: { \"use_label_encoder\" } are not used.\n",
            "\n",
            "  warnings.warn(smsg, UserWarning)\n"
          ]
        },
        {
          "output_type": "stream",
          "name": "stdout",
          "text": [
            " Best XGBoost Parameters: {'subsample': 0.6, 'n_estimators': 300, 'max_depth': 7, 'learning_rate': 0.2, 'gamma': 0, 'colsample_bytree': 0.6}\n"
          ]
        }
      ]
    },
    {
      "cell_type": "code",
      "source": [
        "# Best tuned model\n",
        "best_xgb = xgb_random.best_estimator_\n",
        "\n",
        "# Predict on test\n",
        "y_pred_xgb_tuned = best_xgb.predict(X_test)\n",
        "\n",
        "# Evaluation\n",
        "print(\"Classification Report (XGBoost - Tuned):\")\n",
        "print(classification_report(y_test, y_pred_xgb_tuned))\n",
        "\n",
        "print(\" Confusion Matrix:\")\n",
        "print(confusion_matrix(y_test, y_pred_xgb_tuned))\n",
        "\n",
        "print(\" ROC AUC Score:\", roc_auc_score(y_test, best_xgb.predict_proba(X_test)[:, 1]))\n"
      ],
      "metadata": {
        "colab": {
          "base_uri": "https://localhost:8080/"
        },
        "id": "1IlkM9WjI6LU",
        "outputId": "dccda695-39be-4ff7-fe09-130965beac56"
      },
      "execution_count": null,
      "outputs": [
        {
          "output_type": "stream",
          "name": "stdout",
          "text": [
            "Classification Report (XGBoost - Tuned):\n",
            "              precision    recall  f1-score   support\n",
            "\n",
            "           0       0.99      0.98      0.99       588\n",
            "           1       0.98      0.99      0.99       587\n",
            "\n",
            "    accuracy                           0.99      1175\n",
            "   macro avg       0.99      0.99      0.99      1175\n",
            "weighted avg       0.99      0.99      0.99      1175\n",
            "\n",
            " Confusion Matrix:\n",
            "[[577  11]\n",
            " [  5 582]]\n",
            " ROC AUC Score: 0.9987715699567732\n"
          ]
        }
      ]
    },
    {
      "cell_type": "code",
      "source": [
        "#AdaBoost"
      ],
      "metadata": {
        "id": "264lgib_JFwx"
      },
      "execution_count": null,
      "outputs": []
    },
    {
      "cell_type": "code",
      "source": [
        "from sklearn.ensemble import AdaBoostClassifier\n",
        "from sklearn.metrics import classification_report, confusion_matrix, roc_auc_score\n",
        "\n",
        "#  Initialize AdaBoost with default base estimator (DecisionTreeClassifier(max_depth=1))\n",
        "ada_clf = AdaBoostClassifier(random_state=42)\n",
        "ada_clf.fit(X_train_smote, y_train_smote)\n",
        "\n",
        "#  Predict on test data\n",
        "y_pred_ada = ada_clf.predict(X_test)\n",
        "\n",
        "#  Evaluation\n",
        "print(\" Classification Report (AdaBoost - Default):\")\n",
        "print(classification_report(y_test, y_pred_ada))\n",
        "\n",
        "print(\" Confusion Matrix:\")\n",
        "print(confusion_matrix(y_test, y_pred_ada))\n",
        "\n",
        "print(\" ROC AUC Score:\", roc_auc_score(y_test, ada_clf.predict_proba(X_test)[:, 1]))\n"
      ],
      "metadata": {
        "colab": {
          "base_uri": "https://localhost:8080/"
        },
        "id": "ucR0w5jiJinR",
        "outputId": "cf9c3e81-8b18-42c0-9e2c-f86d81bf4a8e"
      },
      "execution_count": null,
      "outputs": [
        {
          "output_type": "stream",
          "name": "stdout",
          "text": [
            " Classification Report (AdaBoost - Default):\n",
            "              precision    recall  f1-score   support\n",
            "\n",
            "           0       0.75      0.72      0.73       588\n",
            "           1       0.73      0.76      0.74       587\n",
            "\n",
            "    accuracy                           0.74      1175\n",
            "   macro avg       0.74      0.74      0.74      1175\n",
            "weighted avg       0.74      0.74      0.74      1175\n",
            "\n",
            " Confusion Matrix:\n",
            "[[424 164]\n",
            " [142 445]]\n",
            " ROC AUC Score: 0.8080244874781258\n"
          ]
        }
      ]
    },
    {
      "cell_type": "code",
      "source": [
        "from sklearn.ensemble import AdaBoostClassifier\n",
        "from sklearn.tree import DecisionTreeClassifier\n",
        "from sklearn.model_selection import GridSearchCV, StratifiedKFold\n",
        "\n",
        "# 3-fold Stratified CV\n",
        "cv = StratifiedKFold(n_splits=3, shuffle=True, random_state=42)\n",
        "\n",
        "# Base estimator\n",
        "base_estimator = DecisionTreeClassifier(random_state=42)\n",
        "\n",
        "# Hyperparameter grid (for GridSearch)\n",
        "param_grid = {\n",
        "    'n_estimators': [50, 100, 200],\n",
        "    'learning_rate': [0.01, 0.1, 0.2, 0.5, 1.0],\n",
        "    'estimator__max_depth': [1, 2, 3],\n",
        "    'estimator__min_samples_split': [2, 5]\n",
        "}\n",
        "\n",
        "# Use GridSearchCV with the new AdaBoost estimator param\n",
        "ada_grid = GridSearchCV(\n",
        "    estimator=AdaBoostClassifier(estimator=base_estimator, random_state=42),\n",
        "    param_grid=param_grid,\n",
        "    scoring='f1',\n",
        "    cv=cv,\n",
        "    n_jobs=-1,\n",
        "    verbose=2\n",
        ")\n",
        "\n",
        "# Fit to SMOTE-applied training data\n",
        "ada_grid.fit(X_train_smote, y_train_smote)\n",
        "\n",
        "# Output best parameters\n",
        "print(\" Best AdaBoost Parameters:\", ada_grid.best_params_)\n"
      ],
      "metadata": {
        "colab": {
          "base_uri": "https://localhost:8080/"
        },
        "id": "iL9f4QotJk2f",
        "outputId": "bce08b33-42db-4f5e-c165-255a6f0788c6"
      },
      "execution_count": null,
      "outputs": [
        {
          "output_type": "stream",
          "name": "stdout",
          "text": [
            "Fitting 3 folds for each of 90 candidates, totalling 270 fits\n",
            " Best AdaBoost Parameters: {'estimator__max_depth': 3, 'estimator__min_samples_split': 2, 'learning_rate': 1.0, 'n_estimators': 200}\n"
          ]
        }
      ]
    },
    {
      "cell_type": "code",
      "source": [
        "from sklearn.metrics import classification_report, confusion_matrix, roc_auc_score\n",
        "import seaborn as sns\n",
        "import matplotlib.pyplot as plt\n",
        "\n",
        "# Use best estimator from tuning\n",
        "best_ada_model = ada_random.best_estimator_\n",
        "\n",
        "#  Predict on test data\n",
        "y_pred_ada = best_ada_model.predict(X_test)\n",
        "\n",
        "#  Evaluation metrics\n",
        "print(\" Classification Report (AdaBoost):\")\n",
        "print(classification_report(y_test, y_pred_ada))\n",
        "\n",
        "print(\" ROC AUC Score:\", roc_auc_score(y_test, best_ada_model.predict_proba(X_test)[:, 1]))\n",
        "\n",
        "#  Confusion Matrix\n",
        "cm = confusion_matrix(y_test, y_pred_ada)\n",
        "plt.figure(figsize=(6, 4))\n",
        "sns.heatmap(cm, annot=True, fmt='d', cmap='Blues', cbar=False)\n",
        "plt.title(\" Confusion Matrix for AdaBoost (Tuned)\")\n",
        "plt.xlabel(\"Predicted Label\")\n",
        "plt.ylabel(\"True Label\")\n",
        "plt.show()\n"
      ],
      "metadata": {
        "colab": {
          "base_uri": "https://localhost:8080/",
          "height": 601
        },
        "id": "-b-koelcJtd5",
        "outputId": "a43ab5a6-929b-4aa3-b3dc-0bb9b6bd59a4"
      },
      "execution_count": null,
      "outputs": [
        {
          "output_type": "stream",
          "name": "stdout",
          "text": [
            " Classification Report (AdaBoost):\n",
            "              precision    recall  f1-score   support\n",
            "\n",
            "           0       0.90      0.90      0.90       588\n",
            "           1       0.90      0.89      0.90       587\n",
            "\n",
            "    accuracy                           0.90      1175\n",
            "   macro avg       0.90      0.90      0.90      1175\n",
            "weighted avg       0.90      0.90      0.90      1175\n",
            "\n",
            " ROC AUC Score: 0.9626560164099712\n"
          ]
        },
        {
          "output_type": "display_data",
          "data": {
            "text/plain": [
              "<Figure size 600x400 with 1 Axes>"
            ],
            "image/png": "[encoded data removed]"
          },
          "metadata": {}
        }
      ]
    },
    {
      "cell_type": "code",
      "source": [],
      "metadata": {
        "id": "tyO_86LVLN9U"
      },
      "execution_count": null,
      "outputs": []
    }
  ],
  "metadata": {
    "colab": {
      "provenance": []
    },
    "kernelspec": {
      "display_name": "Python 3",
      "name": "python3"
    },
    "language_info": {
      "name": "python"
    }
  },
  "nbformat": 4,
  "nbformat_minor": 0
}